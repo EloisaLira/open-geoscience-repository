{
  "nbformat": 4,
  "nbformat_minor": 0,
  "metadata": {
    "colab": {
      "name": "how-to-access-mseel.ipynb",
      "provenance": [],
      "collapsed_sections": [],
      "authorship_tag": "ABX9TyOhuoV+v6sWj5L3r4tdtkzp",
      "include_colab_link": true
    },
    "kernelspec": {
      "name": "python3",
      "display_name": "Python 3"
    }
  },
  "cells": [
    {
      "cell_type": "markdown",
      "metadata": {
        "id": "view-in-github",
        "colab_type": "text"
      },
      "source": [
        "<a href=\"https://colab.research.google.com/github/yohanesnuwara/open-geoscience-repository/blob/master/how_to_access_mseel.ipynb\" target=\"_parent\"><img src=\"https://colab.research.google.com/assets/colab-badge.svg\" alt=\"Open In Colab\"/></a>"
      ]
    },
    {
      "cell_type": "markdown",
      "metadata": {
        "id": "y2Rujef9Ifeq"
      },
      "source": [
        "# Accessing Marcellus Shale Energy Laboratory Data"
      ]
    },
    {
      "cell_type": "markdown",
      "metadata": {
        "id": "BBTQ2XG_H8QG"
      },
      "source": [
        "Opening MSEEL data is just the same as opening SEG Wiki and GDR OpenEi.\n",
        "\n",
        "Choose one file in the [website](http://www.mseel.org/data/Wells_Datasets/Bogges/) and simply use !wget"
      ]
    },
    {
      "cell_type": "code",
      "metadata": {
        "id": "B04tQpBPH1pS",
        "outputId": "f8b5f42d-c4fd-4199-e81b-4de03d79187f",
        "colab": {
          "base_uri": "https://localhost:8080/",
          "height": 230
        }
      },
      "source": [
        "!wget http://www.mseel.org/data/Wells_Datasets/Bogges/Bogges_1/Drilling/1H_Highlands.csv"
      ],
      "execution_count": 5,
      "outputs": [
        {
          "output_type": "stream",
          "text": [
            "--2020-10-17 10:33:51--  http://www.mseel.org/data/Wells_Datasets/Bogges/Bogges_1/Drilling/1H_Highlands.csv\n",
            "Resolving www.mseel.org (www.mseel.org)... 157.182.4.132\n",
            "Connecting to www.mseel.org (www.mseel.org)|157.182.4.132|:80... connected.\n",
            "HTTP request sent, awaiting response... 200 OK\n",
            "Length: 852422432 (813M) [application/octet-stream]\n",
            "Saving to: ‘1H_Highlands.csv’\n",
            "\n",
            "1H_Highlands.csv    100%[===================>] 812.93M  30.1MB/s    in 27s     \n",
            "\n",
            "2020-10-17 10:34:18 (29.7 MB/s) - ‘1H_Highlands.csv’ saved [852422432/852422432]\n",
            "\n"
          ],
          "name": "stdout"
        }
      ]
    },
    {
      "cell_type": "markdown",
      "metadata": {
        "id": "7KGI2vm0IQwJ"
      },
      "source": [
        "The following will download all the data inside MSEEL. Don't do this if you need just particular part of the folder. It takes ~7-10 minutes to finish downloading all. "
      ]
    },
    {
      "cell_type": "code",
      "metadata": {
        "id": "HRg6Xz55FdoN"
      },
      "source": [
        "!wget -r -np -nH --cut-dirs=3 -R index.html http://www.mseel.org/data/Wells_Datasets/Bogges/"
      ],
      "execution_count": null,
      "outputs": []
    }
  ]
}